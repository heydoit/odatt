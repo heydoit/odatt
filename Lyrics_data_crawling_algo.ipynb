{
 "cells": [
  {
   "cell_type": "code",
   "execution_count": 43,
   "metadata": {},
   "outputs": [],
   "source": [
    "import requests\n",
    "from bs4 import BeautifulSoup\n",
    "import pandas as pd\n",
    "import os\n",
    "\n",
    "def getLyrics(url):\n",
    "    sum = [] # 가사 dataframe\n",
    "    headers = {\n",
    "        \"user-agent\": \"Mozilla/5.0 (Windows NT 10.0; Win64; x64) AppleWebKit/537.36 (KHTML, like Gecko) Chrome/109.0.0.0 Safari/537.36\"\n",
    "    }\n",
    "    res = requests.get(url, headers=headers)\n",
    "    soup = BeautifulSoup(res.text, \"html.parser\")\n",
    "    cluster = soup.select(\"td>div>a.button_icons\")\n",
    "    melUrl = \"https://www.melon.com/song/detail.htm?songId=\" #곡정보 base url\n",
    "    for a in cluster:  \n",
    "        press = a.text\n",
    "        links = a[\"href\"]\n",
    "        left = links.find('(')+2\n",
    "        right = links.find(')')-1\n",
    "        melId = links[left:right] #곡정보 ID\n",
    "        melLyricsUrl = melUrl+melId #곡정보 전체 url \n",
    "        lyricsRes = requests.get(melLyricsUrl, headers=headers)\n",
    "        lyricsSoup = BeautifulSoup(lyricsRes.text, \"html.parser\")\n",
    "        head = lyricsSoup.select_one('div[id=\"d_video_summary\"]').get_text().strip()\n",
    "        \n",
    "        sum.append({\n",
    "            'Lyrics' : head\n",
    "        })\n",
    "    return sum\n",
    "\n",
    "\n",
    "\n",
    "\n"
   ]
  },
  {
   "cell_type": "code",
   "execution_count": 48,
   "metadata": {},
   "outputs": [],
   "source": [
    "# 행복 카테고리 데이터\n",
    "happy_total = getLyrics(\"https://www.melon.com/mymusic/dj/mymusicdjplaylistview_inform.htm?plylstSeq=429411613\")\n",
    "happy_data = pd.DataFrame(happy_total)\n",
    "happy_data['label'] = 0\n",
    "happy_path = 'C:/crawling_data/'\n",
    "happy_name = \"happy_Lyrics_dataset.csv\"\n",
    "happy_data.to_csv(os.path.join(happy_path,happy_name), index=False)\n"
   ]
  },
  {
   "cell_type": "code",
   "execution_count": 47,
   "metadata": {},
   "outputs": [],
   "source": [
    "# 슬픔(우울) 카테고리 데이터\n",
    "sad_total = getLyrics(\"https://www.melon.com/mymusic/dj/mymusicdjplaylistview_inform.htm?plylstSeq=507927254\")\n",
    "sad_data = pd.DataFrame(sad_total)\n",
    "sad_data['label'] = 1\n",
    "sad_path = 'C:/crawling_data/'\n",
    "sad_name = \"sad_Lyrics_dataset.csv\"\n",
    "sad_data.to_csv(os.path.join(sad_path,sad_name), index=False)"
   ]
  },
  {
   "cell_type": "code",
   "execution_count": null,
   "metadata": {},
   "outputs": [],
   "source": []
  }
 ],
 "metadata": {
  "kernelspec": {
   "display_name": "Python 3",
   "language": "python",
   "name": "python3"
  },
  "language_info": {
   "codemirror_mode": {
    "name": "ipython",
    "version": 3
   },
   "file_extension": ".py",
   "mimetype": "text/x-python",
   "name": "python",
   "nbconvert_exporter": "python",
   "pygments_lexer": "ipython3",
   "version": "3.11.1 (tags/v3.11.1:a7a450f, Dec  6 2022, 19:58:39) [MSC v.1934 64 bit (AMD64)]"
  },
  "orig_nbformat": 4,
  "vscode": {
   "interpreter": {
    "hash": "5c10ab090cc9df1cdb010389593b45caee7c3e8176ded060c6eca76a91ed528e"
   }
  }
 },
 "nbformat": 4,
 "nbformat_minor": 2
}
