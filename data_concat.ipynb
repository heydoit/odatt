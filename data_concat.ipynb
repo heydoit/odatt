{
 "cells": [
  {
   "cell_type": "code",
   "execution_count": 41,
   "metadata": {},
   "outputs": [
    {
     "ename": "ModuleNotFoundError",
     "evalue": "No module named 'tensorflow'",
     "output_type": "error",
     "traceback": [
      "\u001b[1;31m---------------------------------------------------------------------------\u001b[0m",
      "\u001b[1;31mModuleNotFoundError\u001b[0m                       Traceback (most recent call last)",
      "Cell \u001b[1;32mIn[41], line 12\u001b[0m\n\u001b[0;32m     10\u001b[0m \u001b[39mfrom\u001b[39;00m \u001b[39mhanja\u001b[39;00m \u001b[39mimport\u001b[39;00m hangul\n\u001b[0;32m     11\u001b[0m \u001b[39mfrom\u001b[39;00m \u001b[39mkonlpy\u001b[39;00m\u001b[39m.\u001b[39;00m\u001b[39mtag\u001b[39;00m \u001b[39mimport\u001b[39;00m Okt\n\u001b[1;32m---> 12\u001b[0m \u001b[39mfrom\u001b[39;00m \u001b[39mtensorflow\u001b[39;00m\u001b[39m.\u001b[39;00m\u001b[39mkeras\u001b[39;00m\u001b[39m.\u001b[39;00m\u001b[39mpreprocessing\u001b[39;00m\u001b[39m.\u001b[39;00m\u001b[39msequence\u001b[39;00m \u001b[39mimport\u001b[39;00m pad_sequences\n\u001b[0;32m     13\u001b[0m \u001b[39mfrom\u001b[39;00m \u001b[39mtensorflow\u001b[39;00m\u001b[39m.\u001b[39;00m\u001b[39mkeras\u001b[39;00m\u001b[39m.\u001b[39;00m\u001b[39mpreprocessing\u001b[39;00m\u001b[39m.\u001b[39;00m\u001b[39mtext\u001b[39;00m \u001b[39mimport\u001b[39;00m Tokenizer\n",
      "\u001b[1;31mModuleNotFoundError\u001b[0m: No module named 'tensorflow'"
     ]
    }
   ],
   "source": [
    "import pandas as pd\n",
    "import numpy as np\n",
    "import matplotlib.pyplot as plt\n",
    "import seaborn as sns\n",
    "%matplotlib inline\n",
    "\n",
    "# from wordcloud import WordCloud\n",
    "import re\n",
    "import hanja\n",
    "from hanja import hangul\n",
    "from konlpy.tag import Okt\n",
    "from tensorflow.keras.preprocessing.sequence import pad_sequences\n",
    "from tensorflow.keras.preprocessing.text import Tokenizer\n"
   ]
  },
  {
   "cell_type": "code",
   "execution_count": 36,
   "metadata": {},
   "outputs": [
    {
     "name": "stdout",
     "output_type": "stream",
     "text": [
      "Note: you may need to restart the kernel to use updated packages.\n"
     ]
    },
    {
     "name": "stderr",
     "output_type": "stream",
     "text": [
      "WARNING: Requirement 'wordcloud‑1.8.1‑cp36‑cp36m‑win_amd64.whl' looks like a filename, but the file does not exist\n",
      "ERROR: wordcloud‑1.8.1‑cp36‑cp36m‑win_amd64.whl is not a valid wheel filename.\n"
     ]
    }
   ],
   "source": [
    "pip install wordcloud‑1.8.1‑cp36‑cp36m‑win_amd64.whl"
   ]
  },
  {
   "cell_type": "code",
   "execution_count": 31,
   "metadata": {},
   "outputs": [
    {
     "data": {
      "text/html": [
       "<div>\n",
       "<style scoped>\n",
       "    .dataframe tbody tr th:only-of-type {\n",
       "        vertical-align: middle;\n",
       "    }\n",
       "\n",
       "    .dataframe tbody tr th {\n",
       "        vertical-align: top;\n",
       "    }\n",
       "\n",
       "    .dataframe thead th {\n",
       "        text-align: right;\n",
       "    }\n",
       "</style>\n",
       "<table border=\"1\" class=\"dataframe\">\n",
       "  <thead>\n",
       "    <tr style=\"text-align: right;\">\n",
       "      <th></th>\n",
       "      <th>Lyrics</th>\n",
       "      <th>label</th>\n",
       "    </tr>\n",
       "  </thead>\n",
       "  <tbody>\n",
       "    <tr>\n",
       "      <th>0</th>\n",
       "      <td>아침에 일어나 너에게 짧은 인사를 보낸다 아무리 멀리 떨어져 있어도 나는 널 생각하...</td>\n",
       "      <td>0</td>\n",
       "    </tr>\n",
       "    <tr>\n",
       "      <th>1</th>\n",
       "      <td>라라랄라 라라랄라 워어 워어 너가 맛있었다고 했던 살구빛 샐러드 맛있어서 또 먹고 ...</td>\n",
       "      <td>0</td>\n",
       "    </tr>\n",
       "    <tr>\n",
       "      <th>2</th>\n",
       "      <td>자꾸 마주치는 네 눈빛에 왠지 어색해 대체 왜 이래고개를 숙여봐도너의 발끝에 맘이 ...</td>\n",
       "      <td>0</td>\n",
       "    </tr>\n",
       "    <tr>\n",
       "      <th>3</th>\n",
       "      <td>어깨동무까진 괜찮아그치만 손 잡는 건 조금 위험해잘 자란 메세진 괜찮아그래도 자냐는...</td>\n",
       "      <td>0</td>\n",
       "    </tr>\n",
       "    <tr>\n",
       "      <th>4</th>\n",
       "      <td>햇살이 가득그댈 향한 가벼운 발걸음콧노래 부르며쇼윈도에 비친내 모습을 한번 점검해시...</td>\n",
       "      <td>0</td>\n",
       "    </tr>\n",
       "    <tr>\n",
       "      <th>...</th>\n",
       "      <td>...</td>\n",
       "      <td>...</td>\n",
       "    </tr>\n",
       "    <tr>\n",
       "      <th>195</th>\n",
       "      <td>누구나 손가락질 받을 때면 가슴 한 켠이 뜨거워지는 걸 느끼죠 그댄 따뜻한 그 말 ...</td>\n",
       "      <td>2</td>\n",
       "    </tr>\n",
       "    <tr>\n",
       "      <th>196</th>\n",
       "      <td>너의 하루가 기나긴 한숨 같아 그저 떠나고 싶은 거니 또 기대하고 휘청이며 버티고 ...</td>\n",
       "      <td>2</td>\n",
       "    </tr>\n",
       "    <tr>\n",
       "      <th>197</th>\n",
       "      <td>소년이 어른이 되어 사람을 알아갈 때에 뜻하지 않던 많은 요구와 거친 입술들 소년이...</td>\n",
       "      <td>2</td>\n",
       "    </tr>\n",
       "    <tr>\n",
       "      <th>198</th>\n",
       "      <td>왜 한숨이 나는지 왜 고갤 못 드는 건지 나만 이런 건지 무거운 내 발걸음 오늘은 ...</td>\n",
       "      <td>2</td>\n",
       "    </tr>\n",
       "    <tr>\n",
       "      <th>199</th>\n",
       "      <td>혼자라는 생각이 들 때 이유 없이 눈물이 날 때 꿈을 꾸다 길을 헤매 일 때 차가운...</td>\n",
       "      <td>2</td>\n",
       "    </tr>\n",
       "  </tbody>\n",
       "</table>\n",
       "<p>200 rows × 2 columns</p>\n",
       "</div>"
      ],
      "text/plain": [
       "                                                Lyrics  label\n",
       "0    아침에 일어나 너에게 짧은 인사를 보낸다 아무리 멀리 떨어져 있어도 나는 널 생각하...      0\n",
       "1    라라랄라 라라랄라 워어 워어 너가 맛있었다고 했던 살구빛 샐러드 맛있어서 또 먹고 ...      0\n",
       "2    자꾸 마주치는 네 눈빛에 왠지 어색해 대체 왜 이래고개를 숙여봐도너의 발끝에 맘이 ...      0\n",
       "3    어깨동무까진 괜찮아그치만 손 잡는 건 조금 위험해잘 자란 메세진 괜찮아그래도 자냐는...      0\n",
       "4    햇살이 가득그댈 향한 가벼운 발걸음콧노래 부르며쇼윈도에 비친내 모습을 한번 점검해시...      0\n",
       "..                                                 ...    ...\n",
       "195  누구나 손가락질 받을 때면 가슴 한 켠이 뜨거워지는 걸 느끼죠 그댄 따뜻한 그 말 ...      2\n",
       "196  너의 하루가 기나긴 한숨 같아 그저 떠나고 싶은 거니 또 기대하고 휘청이며 버티고 ...      2\n",
       "197  소년이 어른이 되어 사람을 알아갈 때에 뜻하지 않던 많은 요구와 거친 입술들 소년이...      2\n",
       "198  왜 한숨이 나는지 왜 고갤 못 드는 건지 나만 이런 건지 무거운 내 발걸음 오늘은 ...      2\n",
       "199  혼자라는 생각이 들 때 이유 없이 눈물이 날 때 꿈을 꾸다 길을 헤매 일 때 차가운...      2\n",
       "\n",
       "[200 rows x 2 columns]"
      ]
     },
     "execution_count": 31,
     "metadata": {},
     "output_type": "execute_result"
    }
   ],
   "source": [
    "anger_hope_data = pd.read_csv('C:/crawling_data/anger_hope_trans.csv')\n",
    "happy_sad_data = pd.read_csv('C:/crawling_data/happy_sad_trans.csv', encoding='cp949')\n",
    "# hs = pd.DataFrame(happy_sad_data)\n",
    "# ah = pd.DataFrame(anger_hope_data)\n",
    "# ah = ah[['Lyrics_trans','label']]\n",
    "# hs = hs.rename(columns={'Lyrics':'Lyrics_trans'})\n",
    "\n",
    "# result = pd.concat([hs, ah])\n",
    "# result\n",
    "\n",
    "Lyrics = pd.read_csv('C:/crawling_data/Lyrics.csv',encoding='cp949')\n",
    "Lyrics"
   ]
  },
  {
   "cell_type": "code",
   "execution_count": 32,
   "metadata": {},
   "outputs": [
    {
     "name": "stdout",
     "output_type": "stream",
     "text": [
      "전체 학습 데이터 수: 200\n"
     ]
    }
   ],
   "source": [
    "print(f'전체 학습 데이터 수: {len(Lyrics)}')"
   ]
  },
  {
   "cell_type": "code",
   "execution_count": 40,
   "metadata": {},
   "outputs": [
    {
     "ename": "ModuleNotFoundError",
     "evalue": "No module named 'Tokenizer'",
     "output_type": "error",
     "traceback": [
      "\u001b[1;31m---------------------------------------------------------------------------\u001b[0m",
      "\u001b[1;31mModuleNotFoundError\u001b[0m                       Traceback (most recent call last)",
      "Cell \u001b[1;32mIn[40], line 1\u001b[0m\n\u001b[1;32m----> 1\u001b[0m \u001b[39mimport\u001b[39;00m \u001b[39mTokenizer\u001b[39;00m\n\u001b[0;32m      2\u001b[0m tokenizer \u001b[39m=\u001b[39m Tokenizer()\n\u001b[0;32m      3\u001b[0m tokenizer\u001b[39m.\u001b[39mfit_on_texts(Lyrics)\n",
      "\u001b[1;31mModuleNotFoundError\u001b[0m: No module named 'Tokenizer'"
     ]
    }
   ],
   "source": [
    "import Tokenizer\n",
    "tokenizer = Tokenizer()\n",
    "tokenizer.fit_on_texts(Lyrics)\n",
    "text_seq = tokenizer.texts_to_sequences(Lyrics)\n"
   ]
  },
  {
   "cell_type": "code",
   "execution_count": null,
   "metadata": {},
   "outputs": [],
   "source": [
    "word_vocab = tokenizer"
   ]
  },
  {
   "cell_type": "code",
   "execution_count": null,
   "metadata": {},
   "outputs": [],
   "source": []
  },
  {
   "cell_type": "code",
   "execution_count": 29,
   "metadata": {},
   "outputs": [
    {
     "name": "stdout",
     "output_type": "stream",
     "text": [
      "['Lyrics_trans']\n",
      "['label']\n",
      "                                         Lyrics_trans  label             0  \\\n",
      "0   아침에 일어나 너에게 짧은 인사를 보낸다 아무리 멀리 떨어져 있어도 나는 널 생각하...      0  Lyrics_trans   \n",
      "1   라라랄라 라라랄라 워어 워어 너가 맛있었다고 했던 살구빛 샐러드 맛있어서 또 먹고 ...      0  Lyrics_trans   \n",
      "2   자꾸 마주치는 네 눈빛에 왠지 어색해 대체 왜 이래고개를 숙여봐도너의 발끝에 맘이 ...      0  Lyrics_trans   \n",
      "3   어깨동무까진 괜찮아그치만 손 잡는 건 조금 위험해잘 자란 메세진 괜찮아그래도 자냐는...      0  Lyrics_trans   \n",
      "4   햇살이 가득그댈 향한 가벼운 발걸음콧노래 부르며쇼윈도에 비친내 모습을 한번 점검해시...      0  Lyrics_trans   \n",
      "..                                                ...    ...           ...   \n",
      "95  누구나 손가락질 받을 때면 가슴 한 켠이 뜨거워지는 걸 느끼죠 그댄 따뜻한 그 말 ...      2  Lyrics_trans   \n",
      "96  너의 하루가 기나긴 한숨 같아 그저 떠나고 싶은 거니 또 기대하고 휘청이며 버티고 ...      2  Lyrics_trans   \n",
      "97  소년이 어른이 되어 사람을 알아갈 때에 뜻하지 않던 많은 요구와 거친 입술들 소년이...      2  Lyrics_trans   \n",
      "98  왜 한숨이 나는지 왜 고갤 못 드는 건지 나만 이런 건지 무거운 내 발걸음 오늘은 ...      2  Lyrics_trans   \n",
      "99  혼자라는 생각이 들 때 이유 없이 눈물이 날 때 꿈을 꾸다 길을 헤매 일 때 차가운...      2  Lyrics_trans   \n",
      "\n",
      "        1  \n",
      "0   label  \n",
      "1   label  \n",
      "2   label  \n",
      "3   label  \n",
      "4   label  \n",
      "..    ...  \n",
      "95  label  \n",
      "96  label  \n",
      "97  label  \n",
      "98  label  \n",
      "99  label  \n",
      "\n",
      "[200 rows x 4 columns]\n"
     ]
    },
    {
     "name": "stderr",
     "output_type": "stream",
     "text": [
      "[nltk_data] Downloading package punkt to\n",
      "[nltk_data]     C:\\Users\\YUJIN\\AppData\\Roaming\\nltk_data...\n",
      "[nltk_data]   Package punkt is already up-to-date!\n"
     ]
    }
   ],
   "source": [
    "nltk.download('punkt')\n",
    "stopwords = ['에','이', '있', '하', '것', '들', '그', '되', '수', '이', '보', '않', '없', '나', '사람', '주', '아니', '등', '같', '우리', '때', '년', '가', '한', '지', '대하', '오', '말', '일', '그렇', '위하']\n",
    "for i, document in enumerate(result):\n",
    "    clean_words = [] \n",
    "    for word in nltk.tokenize.word_tokenize(document): \n",
    "        if word not in stopwords: #불용어 제거\n",
    "            clean_words.append(word)\n",
    "    print(clean_words) #['스토리', '진짜', '노잼']     \n",
    "    result[i] = ' '.join(clean_words)        \n",
    "print(result)"
   ]
  },
  {
   "cell_type": "code",
   "execution_count": null,
   "metadata": {},
   "outputs": [],
   "source": []
  },
  {
   "cell_type": "code",
   "execution_count": null,
   "metadata": {},
   "outputs": [],
   "source": []
  },
  {
   "cell_type": "code",
   "execution_count": null,
   "metadata": {},
   "outputs": [],
   "source": []
  },
  {
   "cell_type": "code",
   "execution_count": null,
   "metadata": {},
   "outputs": [],
   "source": []
  }
 ],
 "metadata": {
  "kernelspec": {
   "display_name": "Python 3",
   "language": "python",
   "name": "python3"
  },
  "language_info": {
   "codemirror_mode": {
    "name": "ipython",
    "version": 3
   },
   "file_extension": ".py",
   "mimetype": "text/x-python",
   "name": "python",
   "nbconvert_exporter": "python",
   "pygments_lexer": "ipython3",
   "version": "3.11.1"
  },
  "orig_nbformat": 4,
  "vscode": {
   "interpreter": {
    "hash": "5c10ab090cc9df1cdb010389593b45caee7c3e8176ded060c6eca76a91ed528e"
   }
  }
 },
 "nbformat": 4,
 "nbformat_minor": 2
}
