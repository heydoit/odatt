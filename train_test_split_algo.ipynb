{
 "cells": [
  {
   "cell_type": "code",
   "execution_count": 13,
   "metadata": {},
   "outputs": [],
   "source": [
    "import pandas as pd\n",
    "import os\n",
    "\n",
    "happy = pd.read_csv('C:/crawling_data/happy_Lyrics_dataset.csv')\n",
    "sad = pd.read_csv('C:/crawling_data/sad_Lyrics_dataset.csv')\n",
    "anger = pd.read_csv('C:/crawling_data/anger_Lyric_dataset.csv')\n",
    "hope = pd.read_csv('C:/crawling_data/hope_Lyric_dataset.csv')\n",
    "\n",
    "# anger = anger['Lyric'].str.strip()\n",
    "# anger = pd.DataFrame(anger)\n",
    "\n",
    "# hope = hope['Lyric'].str.strip()\n",
    "# hope = pd.DataFrame(hope)"
   ]
  },
  {
   "cell_type": "code",
   "execution_count": 4,
   "metadata": {},
   "outputs": [],
   "source": [
    "from sklearn.model_selection import train_test_split\n",
    "import numpy as np\n",
    "happy_train, happy_test = train_test_split(happy, test_size=0.2, random_state=111)\n",
    "sad_train, sad_test = train_test_split(sad, test_size=0.2, random_state=111)"
   ]
  },
  {
   "cell_type": "code",
   "execution_count": 14,
   "metadata": {},
   "outputs": [],
   "source": [
    "# 행복 train set(80%), test set(20%)\n",
    "\n",
    "happy_train_path = 'C:/crawling_data/'\n",
    "happy_train_name = \"happy_train_dataset.csv\"\n",
    "happy_train.to_csv(os.path.join(happy_train_path,happy_train_name), index=False)\n",
    "\n",
    "happy_test_path = 'C:/crawling_data/'\n",
    "happy_test_name = \"happy_test_dataset.csv\"\n",
    "happy_test.to_csv(os.path.join(happy_test_path,happy_test_name), index=False)"
   ]
  },
  {
   "cell_type": "code",
   "execution_count": 18,
   "metadata": {},
   "outputs": [],
   "source": [
    "# 슬픔 train set(80%), test set(20%)\n",
    "\n",
    "sad_train_path = 'C:/crawling_data/'\n",
    "sad_train_name = \"sad_train_dataset.csv\"\n",
    "sad_train.to_csv(os.path.join(sad_train_path,sad_train_name), index=False)\n",
    "\n",
    "sad_test_path = 'C:/crawling_data/'\n",
    "sad_test_name = \"sad_test_dataset.csv\"\n",
    "sad_test.to_csv(os.path.join(sad_test_path,sad_test_name), index=False)"
   ]
  },
  {
   "cell_type": "code",
   "execution_count": null,
   "metadata": {},
   "outputs": [],
   "source": []
  }
 ],
 "metadata": {
  "kernelspec": {
   "display_name": "Python 3",
   "language": "python",
   "name": "python3"
  },
  "language_info": {
   "codemirror_mode": {
    "name": "ipython",
    "version": 3
   },
   "file_extension": ".py",
   "mimetype": "text/x-python",
   "name": "python",
   "nbconvert_exporter": "python",
   "pygments_lexer": "ipython3",
   "version": "3.11.1 (tags/v3.11.1:a7a450f, Dec  6 2022, 19:58:39) [MSC v.1934 64 bit (AMD64)]"
  },
  "orig_nbformat": 4,
  "vscode": {
   "interpreter": {
    "hash": "5c10ab090cc9df1cdb010389593b45caee7c3e8176ded060c6eca76a91ed528e"
   }
  }
 },
 "nbformat": 4,
 "nbformat_minor": 2
}
