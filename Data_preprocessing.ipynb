{
 "cells": [
  {
   "cell_type": "code",
   "execution_count": null,
   "metadata": {},
   "outputs": [],
   "source": [
    "import pandas as pd\n",
    "import numpy as np\n",
    "import matplotlib.pyplot as plt\n",
    "import seaborn as sns\n",
    "%matplotlib inline\n",
    "\n",
    "# from wordcloud import WordCloud\n",
    "import re\n",
    "import hanja\n",
    "from hanja import hangul\n",
    "from konlpy.tag import Okt\n",
    "# from tensorflow.keras.preprocessing.sequence import pad_sequences\n",
    "# from tensorflow.keras.preprocessing.text import Tokenizer\n",
    "\n"
   ]
  },
  {
   "cell_type": "code",
   "execution_count": null,
   "metadata": {},
   "outputs": [],
   "source": [
    "happy_data = pd.read_csv('C:/crawling_data/happy_Lyrics_dataset.csv')\n",
    "sad_data = pd.read_csv('C:/crawling_data/sad_Lyrics_dataset.csv')\n",
    "\n",
    "ha_sa_data = pd.concat([happy_data, sad_data])\n",
    "ha_sa_data"
   ]
  },
  {
   "cell_type": "code",
   "execution_count": null,
   "metadata": {},
   "outputs": [],
   "source": [
    "# 토크나이즈_test\n",
    "\n",
    "# import nltk\n",
    "\n",
    "# test_text = str(happy_train['Lyrics'][0])\n",
    "\n",
    "# def sentence_segmentation(corpus):\n",
    "#     return nltk.tokenize.sent_tokenize(corpus)\n",
    "\n",
    "# print(sentence_segmentation(test_text))"
   ]
  },
  {
   "cell_type": "code",
   "execution_count": null,
   "metadata": {},
   "outputs": [],
   "source": [
    "# 단어 토크나이즈\n",
    "\n",
    "# import nltk\n",
    "\n",
    "# test_text = str(happy_train['Lyrics'][0])\n",
    "\n",
    "# def word_tokenize(sentence_list):\n",
    "#     token_list = list()\n",
    "#     for sentence in sentence_list:\n",
    "#         token_list.append(nltk.tokenize.word_tokenize(sentence))\n",
    "\n",
    "#     return token_list\n",
    "\n",
    "# print(word_tokenize(test_text))"
   ]
  },
  {
   "cell_type": "code",
   "execution_count": null,
   "metadata": {},
   "outputs": [],
   "source": [
    "# 구글로 번역(ko->en)\n",
    "\n",
    "import googletrans\n",
    "translator = googletrans.Translator()\n",
    "inStr = str(happy_train['Lyrics'])\n",
    "outStr = translator.translate(inStr, dest = 'ko', src='en')\n",
    "\n",
    "outStr.text"
   ]
  },
  {
   "cell_type": "code",
   "execution_count": null,
   "metadata": {},
   "outputs": [],
   "source": [
    "# 영어만 추출\n",
    "\n",
    "text = str(happy_train['Lyrics'])\n",
    "text = text.encode('utf-8').decode('ascii', 'ignore')\n",
    "text = text.strip()\n",
    "print(text)"
   ]
  },
  {
   "cell_type": "code",
   "execution_count": null,
   "metadata": {},
   "outputs": [],
   "source": [
    "# 영어만 번역\n",
    "\n",
    "import googletrans\n",
    "translator = googletrans.Translator()\n",
    "inStr_en = text\n",
    "outStr_ko = translator.translate(inStr_en, dest = 'ko', src='en')\n",
    "\n",
    "outStr_ko.text"
   ]
  },
  {
   "cell_type": "code",
   "execution_count": null,
   "metadata": {},
   "outputs": [],
   "source": [
    "# 한국어만 추출\n",
    "\n",
    "ko_lyrics=[]\n",
    "for lyric in lyrics:\n",
    "    ko=re.sub('[^가-힣\\\\s+]',' ',lyric)\n",
    "    ko_lyrics.append(re.sub('\\s+|\\s+$',' ',ko))\n",
    "ko_lyrics[:2]"
   ]
  },
  {
   "cell_type": "code",
   "execution_count": null,
   "metadata": {},
   "outputs": [],
   "source": [
    "lyrics=[]\n",
    "for lyric in happy_data.iloc[6]:\n",
    "    lyrics.append(re.sub('[\\n\\t\\r]',' ',lyric))\n",
    "lyrics[:]\n",
    "\n",
    "en_lyrics_1=[]\n",
    "for lyric in lyrics:\n",
    "    en_lyrics_1.append()\n",
    "en_lyrics_1[:2]\n",
    "\n",
    "en2ko = []"
   ]
  },
  {
   "cell_type": "code",
   "execution_count": null,
   "metadata": {},
   "outputs": [],
   "source": [
    "# 번역1\n",
    "\n",
    "client_id='cv9o5LKoFeB8XlJZMg_a'\n",
    "client_secret='RWx5mbFI3b'\n",
    "\n",
    "url = \"https://openapi.naver.com/v1/papago/n2mt\"\n",
    "req_header = {\"X-Naver-Client-Id\":client_id, \"X-Naver-Client-Secret\":client_secret}\n",
    "\n",
    "for text in en_lyrics[:20]:\n",
    "    text=text.strip()\n",
    "    if len(text)>0:\n",
    "        req_param = {\"source\":\"en\", \"target\":\"ko\", \"text\":text}\n",
    "        res=requests.post(url,headers=req_header,data=req_param)\n",
    "\n",
    "        if res.ok:\n",
    "            trans_txt=res.json()['message']['result']['translatedText']\n",
    "            en2ko.append(trans_txt)\n",
    "        else:\n",
    "            print('error code', res.status_code)\n",
    "    else:\n",
    "        en2ko.append(' ')\n",
    "    \n",
    "    time.sleep(1)\n",
    "print(len(en2ko))"
   ]
  },
  {
   "cell_type": "code",
   "execution_count": null,
   "metadata": {},
   "outputs": [],
   "source": [
    "# 번역 2\n",
    "client_id='kh1daqlR5o6EQXtR2RF_'\n",
    "client_secret='NaE8jCVFlQ'\n",
    "\n",
    "url = \"https://openapi.naver.com/v1/papago/n2mt\"\n",
    "req_header = {\"X-Naver-Client-Id\":client_id, \"X-Naver-Client-Secret\":client_secret}\n",
    "\n",
    "for text in en_lyrics[20:40]:\n",
    "    text=text.strip()\n",
    "    if len(text)>0:\n",
    "        req_param = {\"source\":\"en\", \"target\":\"ko\", \"text\":text}\n",
    "        res=requests.post(url,headers=req_header,data=req_param)\n",
    "\n",
    "        if res.ok:\n",
    "            trans_txt=res.json()['message']['result']['translatedText']\n",
    "            en2ko.append(trans_txt)\n",
    "        else:\n",
    "            print('error code', res.status_code)\n",
    "    else:\n",
    "        en2ko.append(' ')\n",
    "    \n",
    "    time.sleep(1)\n",
    "    \n",
    "print(len(en2ko))"
   ]
  },
  {
   "cell_type": "code",
   "execution_count": null,
   "metadata": {},
   "outputs": [],
   "source": [
    "# 번역3\n",
    "client_id='5j41Tf3MDAg5JtaRVDhC'\n",
    "client_secret='9QvKYtyIv0'\n",
    "\n",
    "url = \"https://openapi.naver.com/v1/papago/n2mt\"\n",
    "req_header = {\"X-Naver-Client-Id\":client_id, \"X-Naver-Client-Secret\":client_secret}\n",
    "\n",
    "for text in en_lyrics[40:60]:\n",
    "    text=text.strip()\n",
    "    if len(text)>0:\n",
    "        req_param = {\"source\":\"en\", \"target\":\"ko\", \"text\":text}\n",
    "        res=requests.post(url,headers=req_header,data=req_param)\n",
    "\n",
    "        if res.ok:\n",
    "            trans_txt=res.json()['message']['result']['translatedText']\n",
    "            en2ko.append(trans_txt)\n",
    "        else:\n",
    "            print('error code', res.status_code)\n",
    "    else:\n",
    "        en2ko.append(' ')\n",
    "    \n",
    "    time.sleep(1)\n",
    "    \n",
    "print(len(en2ko))"
   ]
  },
  {
   "cell_type": "code",
   "execution_count": null,
   "metadata": {},
   "outputs": [],
   "source": [
    "#번역 4\n",
    "client_id='fIKrwPWshFKrSwFliGQE'\n",
    "client_secret='Tqd78Xp6YO'\n",
    "\n",
    "url = \"https://openapi.naver.com/v1/papago/n2mt\"\n",
    "req_header = {\"X-Naver-Client-Id\":client_id, \"X-Naver-Client-Secret\":client_secret}\n",
    "\n",
    "for text in en_lyrics[60:80]:\n",
    "    text=text.strip()\n",
    "    if len(text)>0:\n",
    "        req_param = {\"source\":\"en\", \"target\":\"ko\", \"text\":text}\n",
    "        res=requests.post(url,headers=req_header,data=req_param)\n",
    "\n",
    "        if res.ok:\n",
    "            trans_txt=res.json()['message']['result']['translatedText']\n",
    "            en2ko.append(trans_txt)\n",
    "        else:\n",
    "            print('error code', res.status_code)\n",
    "    else:\n",
    "        en2ko.append(' ')\n",
    "    \n",
    "    time.sleep(1)\n",
    "    \n",
    "print(len(en2ko))"
   ]
  },
  {
   "cell_type": "code",
   "execution_count": null,
   "metadata": {},
   "outputs": [],
   "source": [
    "# 번역 5\n",
    "client_id='eskQZBmFOVotX8elZZ6N'\n",
    "client_secret='LimVbPP3fx'\n",
    "\n",
    "url = \"https://openapi.naver.com/v1/papago/n2mt\"\n",
    "req_header = {\"X-Naver-Client-Id\":client_id, \"X-Naver-Client-Secret\":client_secret}\n",
    "\n",
    "for text in en_lyrics[80:]:\n",
    "    text=text.strip()\n",
    "    if len(text)>0:\n",
    "        req_param = {\"source\":\"en\", \"target\":\"ko\", \"text\":text}\n",
    "        res=requests.post(url,headers=req_header,data=req_param)\n",
    "\n",
    "        if res.ok:\n",
    "            trans_txt=res.json()['message']['result']['translatedText']\n",
    "            en2ko.append(trans_txt)\n",
    "        else:\n",
    "            print('error code', res.status_code)\n",
    "    else:\n",
    "        en2ko.append(' ')\n",
    "    \n",
    "    time.sleep(1)\n",
    "    \n",
    "print(len(en2ko))"
   ]
  },
  {
   "cell_type": "code",
   "execution_count": null,
   "metadata": {},
   "outputs": [],
   "source": [
    "result=[]\n",
    "for ko,en in zip(ko_lyrics,en2ko):\n",
    "    result.append(ko+en)\n",
    "print(len(result))\n",
    "result[:2]\n",
    "\n",
    "\n",
    "ha_sa_data['Lyrics']=result\n",
    "ha_sa_data\n",
    "\n",
    "ha_sa_data.to_csv('C:/crawling_data/happy_sad_trans.csv',encoding='utf-8-sig',index=False)"
   ]
  }
 ],
 "metadata": {
  "kernelspec": {
   "display_name": "Python 3",
   "language": "python",
   "name": "python3"
  },
  "language_info": {
   "codemirror_mode": {
    "name": "ipython",
    "version": 3
   },
   "file_extension": ".py",
   "mimetype": "text/x-python",
   "name": "python",
   "nbconvert_exporter": "python",
   "pygments_lexer": "ipython3",
   "version": "3.11.1 (tags/v3.11.1:a7a450f, Dec  6 2022, 19:58:39) [MSC v.1934 64 bit (AMD64)]"
  },
  "orig_nbformat": 4,
  "vscode": {
   "interpreter": {
    "hash": "5c10ab090cc9df1cdb010389593b45caee7c3e8176ded060c6eca76a91ed528e"
   }
  }
 },
 "nbformat": 4,
 "nbformat_minor": 2
}
