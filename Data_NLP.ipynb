{
 "cells": [
  {
   "cell_type": "code",
   "execution_count": null,
   "metadata": {},
   "outputs": [],
   "source": [
    "import pandas as pd\n",
    "import numpy as np\n",
    "import matplotlib.pyplot as plt\n",
    "import seaborn as sns\n",
    "%matplotlib inline\n",
    "\n",
    "# from wordcloud import WordCloud\n",
    "import re\n",
    "import hanja\n",
    "from hanja import hangul\n",
    "from konlpy.tag import Okt\n",
    "from tensorflow.keras.preprocessing.sequence import pad_sequences\n",
    "from tensorflow.keras.preprocessing.text import Tokenizer\n",
    "from konlpy.tag import Kkma, Komoran, Okt, Hannanum #Mecab은 윈도우에서 작동 불가능\n",
    "\n",
    "from time import time\n",
    "\n",
    "from konlpy import tag\n",
    "from konlpy.corpus import kolaw\n",
    "# from konlpy.utils import csvwrite, pprint"
   ]
  },
  {
   "cell_type": "code",
   "execution_count": null,
   "metadata": {},
   "outputs": [],
   "source": [
    "Lyrics = pd.read_csv('C:/crawling_data/Lyrics.csv',encoding='cp949')\n",
    "Lyrics = pd.DataFrame(Lyrics)\n",
    "\n",
    "tokenizer = Tokenizer()\n",
    "tokenizer.fit_on_texts(Lyrics)\n",
    "text_seq = tokenizer.texts_to_sequences(Lyrics)\n",
    "\n",
    "pd.set_option('display.max_seq_items', 10000)\n",
    "pd.set_option('display.max_row', 10000)\n",
    "pd.set_option('display.max_columns', 10000)\n",
    "\n",
    "np.set_printoptions(threshold=np.inf, linewidth=np.inf)"
   ]
  },
  {
   "cell_type": "code",
   "execution_count": null,
   "metadata": {},
   "outputs": [],
   "source": [
    "print(f'전체 학습 데이터 수: {len(Lyrics)}')"
   ]
  },
  {
   "cell_type": "code",
   "execution_count": null,
   "metadata": {},
   "outputs": [],
   "source": [
    "Lyrics['label'].value_counts()"
   ]
  },
  {
   "cell_type": "code",
   "execution_count": null,
   "metadata": {},
   "outputs": [],
   "source": [
    "okt = Okt()\n",
    "kkma = Kkma()\n",
    "komoran = Komoran()\n",
    "hannanum = Hannanum()"
   ]
  },
  {
   "cell_type": "code",
   "execution_count": null,
   "metadata": {},
   "outputs": [],
   "source": [
    "import textwrap\n",
    "result = textwrap.wrap(str(Lyrics['Lyrics']),width = 70)\n",
    "result"
   ]
  },
  {
   "cell_type": "code",
   "execution_count": null,
   "metadata": {},
   "outputs": [],
   "source": [
    "print(\"[Kkma morphs 함수]\")\n",
    "print(kkma.morphs(str(Lyrics['Lyrics'])))\n",
    "    \n",
    "    \n",
    "    \n",
    "# print(\"[Okt 함수]\")\n",
    "# print(okt.morphs(str(Lyrics['Lyrics'])))\n",
    "# print(\"[Komoran 함수]\")\n",
    "# print(komoran.morphs(str(Lyrics['Lyrics'])))\n",
    "# print(\"[Hannanum 함수]\")\n",
    "# print(hannanum.morphs(str(Lyrics['Lyrics'])))"
   ]
  },
  {
   "cell_type": "code",
   "execution_count": null,
   "metadata": {},
   "outputs": [],
   "source": [
    "print(\"[Kkma nouns 함수]\")\n",
    "print(kkma.nouns(str(Lyrics['Lyrics'])))\n",
    "print(\"[OKt nouns 함수]\")\n",
    "print(okt.nouns(str(Lyrics['Lyrics'])))\n",
    "print(\"[Komoran nouns 함수]\")\n",
    "print(komoran.nouns(str(Lyrics['Lyrics'])))\n",
    "print(\"[Hannanum nouns 함수]\")\n",
    "print(hannanum.nouns(str(Lyrics['Lyrics'])))"
   ]
  },
  {
   "cell_type": "code",
   "execution_count": null,
   "metadata": {},
   "outputs": [],
   "source": [
    "import nltk\n",
    "nltk.download('punkt')\n",
    "stopwords = ['에','이', '있', '하', '것', '들', '그', '되', '수', '이', '보', '않', '없', '나', '사람', '주', '아니', '등', '같', '우리', '때', '년', '가', '한', '지', '대하', '오', '말', '일', '그렇', '위하']\n",
    "for i, document in enumerate(Lyrics):\n",
    "    clean_words = [] \n",
    "    for word in nltk.tokenize.word_tokenize(document): \n",
    "        if word not in stopwords: #불용어 제거\n",
    "            clean_words.append(word)\n",
    "    print(clean_words) #['스토리', '진짜', '노잼']     \n",
    "    Lyrics[i] = ' '.join(clean_words)        \n",
    "print(Lyrics)"
   ]
  },
  {
   "cell_type": "code",
   "execution_count": null,
   "metadata": {},
   "outputs": [],
   "source": [
    "anger_hope_data = pd.read_csv('C:/crawling_data/anger_hope_trans.csv')\n",
    "happy_sad_data = pd.read_csv('C:/crawling_data/happy_sad_trans.csv', encoding='cp949')\n",
    "# hs = pd.DataFrame(happy_sad_data)\n",
    "# ah = pd.DataFrame(anger_hope_data)\n",
    "# ah = ah[['Lyrics_trans','label']]\n",
    "# hs = hs.rename(columns={'Lyrics':'Lyrics_trans'})\n",
    "\n",
    "# result = pd.concat([hs, ah])\n",
    "# result\n",
    "\n",
    "Lyrics = pd.read_csv('C:/crawling_data/Lyrics.csv',encoding='cp949')\n",
    "print(Lyrics)"
   ]
  },
  {
   "cell_type": "code",
   "execution_count": null,
   "metadata": {},
   "outputs": [],
   "source": [
    "import Tokenizer\n",
    "tokenizer = Tokenizer()\n",
    "tokenizer.fit_on_texts(Lyrics)\n",
    "text_seq = tokenizer.texts_to_sequences(Lyrics)\n"
   ]
  },
  {
   "cell_type": "code",
   "execution_count": null,
   "metadata": {},
   "outputs": [],
   "source": [
    "word_vocab = tokenizer.word_index\n",
    "print(word_vocab)"
   ]
  },
  {
   "cell_type": "code",
   "execution_count": null,
   "metadata": {},
   "outputs": [],
   "source": [
    "print(len(word_vocab))"
   ]
  },
  {
   "cell_type": "code",
   "execution_count": null,
   "metadata": {},
   "outputs": [],
   "source": []
  }
 ],
 "metadata": {
  "kernelspec": {
   "display_name": "Python 3",
   "language": "python",
   "name": "python3"
  },
  "language_info": {
   "codemirror_mode": {
    "name": "ipython",
    "version": 3
   },
   "file_extension": ".py",
   "mimetype": "text/x-python",
   "name": "python",
   "nbconvert_exporter": "python",
   "pygments_lexer": "ipython3",
   "version": "3.11.1"
  },
  "orig_nbformat": 4,
  "vscode": {
   "interpreter": {
    "hash": "5c10ab090cc9df1cdb010389593b45caee7c3e8176ded060c6eca76a91ed528e"
   }
  }
 },
 "nbformat": 4,
 "nbformat_minor": 2
}
